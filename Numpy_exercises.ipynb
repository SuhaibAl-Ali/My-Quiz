{
  "nbformat": 4,
  "nbformat_minor": 5,
  "metadata": {
    "colab": {
      "name": "Numpy_exercises.ipynb",
      "provenance": [],
      "collapsed_sections": []
    },
    "language_info": {
      "name": "python"
    },
    "kernelspec": {
      "name": "python3",
      "display_name": "Python 3"
    }
  },
  "cells": [
    {
      "cell_type": "markdown",
      "metadata": {
        "id": "bf79c78b"
      },
      "source": [
        "# Numpy exercises\n"
      ],
      "id": "bf79c78b"
    },
    {
      "cell_type": "markdown",
      "metadata": {
        "id": "017db353"
      },
      "source": [
        "#### 1. Import the numpy package under the name `np` (★☆☆) `hint: import … as`"
      ],
      "id": "017db353"
    },
    {
      "cell_type": "code",
      "metadata": {
        "id": "68182a76"
      },
      "source": [
        "import numpy as np"
      ],
      "id": "68182a76",
      "execution_count": 1,
      "outputs": []
    },
    {
      "cell_type": "markdown",
      "metadata": {
        "id": "e3c20b3d"
      },
      "source": [
        "#### 2. Create a null vector of size 10 (★☆☆) `hint: vector is a single raw array`"
      ],
      "id": "e3c20b3d"
    },
    {
      "cell_type": "code",
      "metadata": {
        "id": "8a758bcf",
        "outputId": "9f920a44-8d4a-4e32-b058-9f9b133f0dab",
        "colab": {
          "base_uri": "https://localhost:8080/"
        }
      },
      "source": [
        "Array_1=np.array([1,2,3,4,5])\n",
        "print(Array_1)"
      ],
      "id": "8a758bcf",
      "execution_count": 3,
      "outputs": [
        {
          "output_type": "stream",
          "text": [
            "[1 2 3 4 5]\n"
          ],
          "name": "stdout"
        }
      ]
    },
    {
      "cell_type": "markdown",
      "metadata": {
        "id": "b15a879f"
      },
      "source": [
        "#### 3. How to find the memory size of any array, creat a random 5x6 array and check the sizs (★☆☆)"
      ],
      "id": "b15a879f"
    },
    {
      "cell_type": "code",
      "metadata": {
        "id": "1cc3cbc5",
        "outputId": "83ea184b-61cf-40a9-a8c8-913dc9338d71",
        "colab": {
          "base_uri": "https://localhost:8080/"
        }
      },
      "source": [
        "random_array=np.random.random((5,6))\n",
        "print(random_array)\n",
        "print(random_array.size)\n",
        "print(random_array.itemsize)"
      ],
      "id": "1cc3cbc5",
      "execution_count": 5,
      "outputs": [
        {
          "output_type": "stream",
          "text": [
            "[[0.0253467  0.69329995 0.78105598 0.9110422  0.73105401 0.68479856]\n",
            " [0.03806101 0.24162769 0.42257036 0.49659804 0.15275687 0.32331524]\n",
            " [0.04841297 0.34955145 0.66976758 0.93347017 0.67730223 0.47331187]\n",
            " [0.68202695 0.63070631 0.61703366 0.06149312 0.98117585 0.68891926]\n",
            " [0.41732283 0.61936442 0.82269268 0.56145707 0.22192724 0.7594469 ]]\n",
            "30\n",
            "8\n"
          ],
          "name": "stdout"
        }
      ]
    },
    {
      "cell_type": "markdown",
      "metadata": {
        "id": "0a708990"
      },
      "source": [
        "#### 4. How to get the documentation of the numpy add function from the command line? (★☆☆) `hint: use info or ?`"
      ],
      "id": "0a708990"
    },
    {
      "cell_type": "code",
      "metadata": {
        "id": "477e01f4"
      },
      "source": [
        "numpy.add?\n",
        "import numpy; numpy.info(numpy.add)"
      ],
      "id": "477e01f4",
      "execution_count": 10,
      "outputs": []
    },
    {
      "cell_type": "markdown",
      "metadata": {
        "id": "0b16cd77"
      },
      "source": [
        "#### 5. Create a null vector of size 10 but the fifth value which is 1 (★☆☆) `hint: array[x]`"
      ],
      "id": "0b16cd77"
    },
    {
      "cell_type": "code",
      "metadata": {
        "id": "4d9b5975",
        "outputId": "a79db045-d72e-4c10-d01a-686196380886",
        "colab": {
          "base_uri": "https://localhost:8080/"
        }
      },
      "source": [
        "DST= np.zeros(10, dtype=int)\n",
        "DST[4] = 1\n",
        "print(DST)"
      ],
      "id": "4d9b5975",
      "execution_count": 16,
      "outputs": [
        {
          "output_type": "stream",
          "text": [
            "[0 0 0 0 1 0 0 0 0 0]\n"
          ],
          "name": "stdout"
        }
      ]
    },
    {
      "cell_type": "markdown",
      "metadata": {
        "id": "782d4c77"
      },
      "source": [
        "#### 7. Create a vector (single raw array) with values ranging from 10 to 49 (★☆☆) `hint: arange`"
      ],
      "id": "782d4c77"
    },
    {
      "cell_type": "code",
      "metadata": {
        "id": "5dbe1a08",
        "outputId": "88f3867b-26a6-464a-dda8-5d303a1fddef",
        "colab": {
          "base_uri": "https://localhost:8080/"
        }
      },
      "source": [
        "Single_Raw_Array=np.arange(10,50)\n",
        "print(Single_Raw_Array)"
      ],
      "id": "5dbe1a08",
      "execution_count": 18,
      "outputs": [
        {
          "output_type": "stream",
          "text": [
            "[10 11 12 13 14 15 16 17 18 19 20 21 22 23 24 25 26 27 28 29 30 31 32 33\n",
            " 34 35 36 37 38 39 40 41 42 43 44 45 46 47 48 49]\n"
          ],
          "name": "stdout"
        }
      ]
    },
    {
      "cell_type": "markdown",
      "metadata": {
        "id": "48d48f01"
      },
      "source": [
        "#### 8. Show how you can Reverse a vector (first element becomes last) (★☆☆)`hint: use index of -1`"
      ],
      "id": "48d48f01"
    },
    {
      "cell_type": "code",
      "metadata": {
        "id": "3ed233e7",
        "outputId": "095cdd05-91db-4a77-9c91-fc6325ed0e22",
        "colab": {
          "base_uri": "https://localhost:8080/"
        }
      },
      "source": [
        "Single_Raw_Array=np.arange(10,50)\n",
        "Single_Raw_Array = Single_Raw_Array[::-1]\n",
        "print(Single_Raw_Array)"
      ],
      "id": "3ed233e7",
      "execution_count": 19,
      "outputs": [
        {
          "output_type": "stream",
          "text": [
            "[49 48 47 46 45 44 43 42 41 40 39 38 37 36 35 34 33 32 31 30 29 28 27 26\n",
            " 25 24 23 22 21 20 19 18 17 16 15 14 13 12 11 10]\n"
          ],
          "name": "stdout"
        }
      ]
    },
    {
      "cell_type": "markdown",
      "metadata": {
        "id": "4fa39382"
      },
      "source": [
        "#### 9. Create a 3x3 matrix with values ranging from 0 to 8 (★☆☆) `hint: use range and reshape!`"
      ],
      "id": "4fa39382"
    },
    {
      "cell_type": "code",
      "metadata": {
        "id": "c97757ec",
        "outputId": "5e168795-c97c-48dd-cb18-39e24bc75dc0",
        "colab": {
          "base_uri": "https://localhost:8080/"
        }
      },
      "source": [
        "My_Array= np.arange(9).reshape(3, 3)\n",
        "print(My_Array)"
      ],
      "id": "c97757ec",
      "execution_count": 20,
      "outputs": [
        {
          "output_type": "stream",
          "text": [
            "[[0 1 2]\n",
            " [3 4 5]\n",
            " [6 7 8]]\n"
          ],
          "name": "stdout"
        }
      ]
    },
    {
      "cell_type": "markdown",
      "metadata": {
        "id": "da64551a"
      },
      "source": [
        "#### 10. Find indices of non-zero elements from [1,2,0,0,4,0] (★☆☆) `hint: use the np.nonzero`"
      ],
      "id": "da64551a"
    },
    {
      "cell_type": "code",
      "metadata": {
        "id": "327f7adb",
        "outputId": "3729b8cf-cc84-4945-fb9b-b66c6b53d460",
        "colab": {
          "base_uri": "https://localhost:8080/"
        }
      },
      "source": [
        "Non_Zeors = np.nonzero([1,2,0,0,4,0])\n",
        "print(Non_Zeors)"
      ],
      "id": "327f7adb",
      "execution_count": 21,
      "outputs": [
        {
          "output_type": "stream",
          "text": [
            "(array([0, 1, 4]),)\n"
          ],
          "name": "stdout"
        }
      ]
    },
    {
      "cell_type": "markdown",
      "metadata": {
        "id": "f89d9c9e"
      },
      "source": [
        "#### 11. Create a 3x3 identity matrix (★☆☆) `hint: use index and use np.eye`\n",
        "the following is an example of 5x4 identity matrix\n",
        "\n",
        "\n",
        "```\n",
        "[[1. 0. 0. 0. 0.]\n",
        " [0. 1. 0. 0. 0.]\n",
        " [0. 0. 1. 0. 0.]\n",
        " [0. 0. 0. 1. 0.]\n",
        " [0. 0. 0. 0. 1.]]\n",
        "\n",
        "```\n",
        "\n"
      ],
      "id": "f89d9c9e"
    },
    {
      "cell_type": "code",
      "metadata": {
        "id": "ba625832",
        "outputId": "ad87ffa6-9fd3-4f71-ff8a-21910c590287",
        "colab": {
          "base_uri": "https://localhost:8080/"
        }
      },
      "source": [
        "np.eye?\n",
        "NP_EYE = np.eye(3, dtype=int)\n",
        "print(NP_EYE)\n"
      ],
      "id": "ba625832",
      "execution_count": 24,
      "outputs": [
        {
          "output_type": "stream",
          "text": [
            "[[1 0 0]\n",
            " [0 1 0]\n",
            " [0 0 1]]\n"
          ],
          "name": "stdout"
        }
      ]
    },
    {
      "cell_type": "markdown",
      "metadata": {
        "id": "7e44c6fa"
      },
      "source": [
        "#### 12. Create a 3x3x3 array with random values (★☆☆) `hint: np.random.random`"
      ],
      "id": "7e44c6fa"
    },
    {
      "cell_type": "code",
      "metadata": {
        "id": "1cb3dddf",
        "outputId": "5d9b2ccf-37b0-4520-e944-7818218c815e",
        "colab": {
          "base_uri": "https://localhost:8080/"
        }
      },
      "source": [
        "Random_Array=np.random.random((3,3,3))\n",
        "print(Random_Array)"
      ],
      "id": "1cb3dddf",
      "execution_count": 26,
      "outputs": [
        {
          "output_type": "stream",
          "text": [
            "[[[0.02719105 0.3737677  0.07577058]\n",
            "  [0.6232664  0.74062227 0.91526077]\n",
            "  [0.97221242 0.35541746 0.90730925]]\n",
            "\n",
            " [[0.83606264 0.86146991 0.59778964]\n",
            "  [0.6085203  0.58907964 0.9406247 ]\n",
            "  [0.41256989 0.11483789 0.79613822]]\n",
            "\n",
            " [[0.34670148 0.09870509 0.68023458]\n",
            "  [0.67516808 0.61266637 0.67979734]\n",
            "  [0.97869148 0.75502878 0.82104553]]]\n"
          ],
          "name": "stdout"
        }
      ]
    },
    {
      "cell_type": "markdown",
      "metadata": {
        "id": "13c5928c"
      },
      "source": [
        "#### 13. Create a 10x10 array with random values and find the minimum and maximum values (★☆☆) `hint: min, max`"
      ],
      "id": "13c5928c"
    },
    {
      "cell_type": "code",
      "metadata": {
        "id": "911c9b93",
        "outputId": "cb3e94fd-bf24-4f92-f6bd-396b0c4e68ec",
        "colab": {
          "base_uri": "https://localhost:8080/"
        }
      },
      "source": [
        "Random_Array_1=np.random.random((10,10))\n",
        "print(Random_Array_1)\n",
        "print(Random_Array_1.min())\n",
        "print(Random_Array_1.max())"
      ],
      "id": "911c9b93",
      "execution_count": 29,
      "outputs": [
        {
          "output_type": "stream",
          "text": [
            "[[0.22927501 0.82345527 0.30667407 0.21459075 0.39609379 0.27413036\n",
            "  0.4554611  0.0132449  0.84055916 0.84347729]\n",
            " [0.39224978 0.09657822 0.72431556 0.47396392 0.83397077 0.87661109\n",
            "  0.01761825 0.29399295 0.61460394 0.66889833]\n",
            " [0.57071738 0.479543   0.27648449 0.40812179 0.63775164 0.10242439\n",
            "  0.99169161 0.76990289 0.94328209 0.34483662]\n",
            " [0.23195581 0.19808294 0.15085383 0.32633726 0.95108635 0.75813668\n",
            "  0.29431378 0.57784013 0.41027123 0.39344084]\n",
            " [0.55257855 0.35701593 0.7411895  0.46227344 0.78813731 0.73301192\n",
            "  0.90076471 0.09118284 0.15626309 0.90553143]\n",
            " [0.31704266 0.98392027 0.92237459 0.67067683 0.16708694 0.29722453\n",
            "  0.6610317  0.98561853 0.7607843  0.72925467]\n",
            " [0.75578858 0.03084143 0.27303701 0.28360364 0.98126571 0.88762767\n",
            "  0.64473256 0.85801549 0.9086821  0.53001352]\n",
            " [0.59255229 0.86795953 0.55539561 0.05899527 0.24787112 0.72908632\n",
            "  0.14002147 0.48980267 0.9611967  0.98500049]\n",
            " [0.27454449 0.96964129 0.03111908 0.27971727 0.46443269 0.74694707\n",
            "  0.8678583  0.01158324 0.00201743 0.1359599 ]\n",
            " [0.14421534 0.51412712 0.29825575 0.16942176 0.64903608 0.37130297\n",
            "  0.42137522 0.73625593 0.14847928 0.40903472]]\n",
            "0.002017433834715865\n",
            "0.9916916050678637\n"
          ],
          "name": "stdout"
        }
      ]
    },
    {
      "cell_type": "markdown",
      "metadata": {
        "id": "3fa2e461"
      },
      "source": [
        "#### 14. Create a random vector of size 30 and find the mean value (★☆☆) `hint: mean`"
      ],
      "id": "3fa2e461"
    },
    {
      "cell_type": "code",
      "metadata": {
        "id": "323eb38a",
        "outputId": "69a07916-bdd7-49f5-d04e-0a17afc30a36",
        "colab": {
          "base_uri": "https://localhost:8080/"
        }
      },
      "source": [
        "Random_Array_2=np.random.random(30)\n",
        "print(Random_Array_2)\n",
        "\n",
        "print(Random_Array_2.mean())\n"
      ],
      "id": "323eb38a",
      "execution_count": 36,
      "outputs": [
        {
          "output_type": "stream",
          "text": [
            "[0.36820083 0.30783648 0.32670605 0.34109828 0.24463997 0.04614945\n",
            " 0.85114311 0.68957548 0.42768911 0.43196131 0.24636405 0.97335728\n",
            " 0.60314308 0.67535767 0.79174202 0.63687267 0.93045412 0.3575312\n",
            " 0.76097178 0.80113966 0.61502886 0.25156414 0.57388103 0.17909387\n",
            " 0.50770173 0.23637931 0.52340418 0.32078031 0.41107209 0.92401763]\n",
            "0.5118285575461295\n"
          ],
          "name": "stdout"
        }
      ]
    },
    {
      "cell_type": "markdown",
      "metadata": {
        "id": "73f7a549"
      },
      "source": [
        "#### 15. Create a 2d array as following, with 1 on the border and 0 inside.. see generated array (★☆☆)\n",
        "\n",
        "\n",
        "\n",
        "```\n",
        "[[1. 1. 1. 1. 1. 1. 1. 1. 1. 1.]\n",
        " [1. 0. 0. 0. 0. 0. 0. 0. 0. 1.]\n",
        " [1. 0. 0. 0. 0. 0. 0. 0. 0. 1.]\n",
        " [1. 0. 0. 0. 0. 0. 0. 0. 0. 1.]\n",
        " [1. 0. 0. 0. 0. 0. 0. 0. 0. 1.]\n",
        " [1. 0. 0. 0. 0. 0. 0. 0. 0. 1.]\n",
        " [1. 0. 0. 0. 0. 0. 0. 0. 0. 1.]\n",
        " [1. 0. 0. 0. 0. 0. 0. 0. 0. 1.]\n",
        " [1. 0. 0. 0. 0. 0. 0. 0. 0. 1.]\n",
        " [1. 1. 1. 1. 1. 1. 1. 1. 1. 1.]]\n",
        "```\n",
        "\n"
      ],
      "id": "73f7a549"
    },
    {
      "cell_type": "code",
      "metadata": {
        "id": "e3a6807d",
        "outputId": "55d173c8-1d69-4fa7-9339-542d3b88fccd",
        "colab": {
          "base_uri": "https://localhost:8080/"
        }
      },
      "source": [
        "Two_d_array = np.ones((10,10))\n",
        "print(Two_d_array.shape)\n",
        "Two_d_array[1:-1,1:-1] = 0\n",
        "print(Two_d_array)"
      ],
      "id": "e3a6807d",
      "execution_count": 40,
      "outputs": [
        {
          "output_type": "stream",
          "text": [
            "(10, 10)\n",
            "[[1. 1. 1. 1. 1. 1. 1. 1. 1. 1.]\n",
            " [1. 0. 0. 0. 0. 0. 0. 0. 0. 1.]\n",
            " [1. 0. 0. 0. 0. 0. 0. 0. 0. 1.]\n",
            " [1. 0. 0. 0. 0. 0. 0. 0. 0. 1.]\n",
            " [1. 0. 0. 0. 0. 0. 0. 0. 0. 1.]\n",
            " [1. 0. 0. 0. 0. 0. 0. 0. 0. 1.]\n",
            " [1. 0. 0. 0. 0. 0. 0. 0. 0. 1.]\n",
            " [1. 0. 0. 0. 0. 0. 0. 0. 0. 1.]\n",
            " [1. 0. 0. 0. 0. 0. 0. 0. 0. 1.]\n",
            " [1. 1. 1. 1. 1. 1. 1. 1. 1. 1.]]\n"
          ],
          "name": "stdout"
        }
      ]
    },
    {
      "cell_type": "markdown",
      "metadata": {
        "id": "6d0c506f"
      },
      "source": [
        "#### 16. How to add a border (filled with 0's) around an existing array? (★★☆) `hint: see generated array np.pad   `"
      ],
      "id": "6d0c506f"
    },
    {
      "cell_type": "code",
      "metadata": {
        "colab": {
          "base_uri": "https://localhost:8080/"
        },
        "id": "32ffee7b",
        "outputId": "53fc28e7-5051-4c25-98c1-e4736bfe6c4d"
      },
      "source": [
        "np.pad?\n",
        "Two_d_array[:, [0, -1]] = 0\n",
        "Two_d_array[[0, -1], :] = 0\n",
        "print(Two_d_array)"
      ],
      "id": "32ffee7b",
      "execution_count": 42,
      "outputs": [
        {
          "output_type": "stream",
          "text": [
            "[[0. 0. 0. 0. 0. 0. 0. 0. 0. 0.]\n",
            " [0. 0. 0. 0. 0. 0. 0. 0. 0. 0.]\n",
            " [0. 0. 0. 0. 0. 0. 0. 0. 0. 0.]\n",
            " [0. 0. 0. 0. 0. 0. 0. 0. 0. 0.]\n",
            " [0. 0. 0. 0. 0. 0. 0. 0. 0. 0.]\n",
            " [0. 0. 0. 0. 0. 0. 0. 0. 0. 0.]\n",
            " [0. 0. 0. 0. 0. 0. 0. 0. 0. 0.]\n",
            " [0. 0. 0. 0. 0. 0. 0. 0. 0. 0.]\n",
            " [0. 0. 0. 0. 0. 0. 0. 0. 0. 0.]\n",
            " [0. 0. 0. 0. 0. 0. 0. 0. 0. 0.]]\n"
          ],
          "name": "stdout"
        }
      ]
    },
    {
      "cell_type": "markdown",
      "metadata": {
        "id": "d6ad1a9f"
      },
      "source": [
        "#### 17. What is the result of the following expression? (★☆☆)\n",
        "```python\n",
        "0 * np.nan\n",
        "np.nan == np.nan\n",
        "np.inf > np.nan\n",
        "np.nan - np.nan\n",
        "np.nan in set([np.nan])\n",
        "0.3 == 3 * 0.1\n",
        "```"
      ],
      "id": "d6ad1a9f"
    },
    {
      "cell_type": "code",
      "metadata": {
        "id": "dZeTkx5sY9OI",
        "outputId": "ac608436-e389-462e-9fb6-df1cc8143402",
        "colab": {
          "base_uri": "https://localhost:8080/"
        }
      },
      "source": [
        "print(0 * np.nan)\n",
        "print(np.nan == np.nan)\n",
        "print(np.inf > np.nan)\n",
        "print(np.nan - np.nan)\n",
        "print(np.nan in set([np.nan]))\n",
        "print(0.3 == 3 * 0.1)"
      ],
      "id": "dZeTkx5sY9OI",
      "execution_count": 43,
      "outputs": [
        {
          "output_type": "stream",
          "text": [
            "nan\n",
            "False\n",
            "False\n",
            "nan\n",
            "True\n",
            "False\n"
          ],
          "name": "stdout"
        }
      ]
    },
    {
      "cell_type": "markdown",
      "metadata": {
        "id": "cUiAXyeXApYe"
      },
      "source": [
        " ####18  What is the result of the following expression? (★☆☆) `hint: indexing the nan using np.nan`\n",
        "\n",
        "\n",
        "\n",
        "```\n",
        "Z = np.ones((5,5))\n",
        "Z[0,1]=np.nan\n",
        "Z\n",
        "```\n",
        "\n"
      ],
      "id": "cUiAXyeXApYe"
    },
    {
      "cell_type": "code",
      "metadata": {
        "id": "wirXjeT-Bd2H",
        "outputId": "753a34c3-8c71-4f04-e0a0-b6994f64e0a2",
        "colab": {
          "base_uri": "https://localhost:8080/"
        }
      },
      "source": [
        "Z = np.ones((5,5))\n",
        "Z[0,1]=np.nan\n",
        "Z"
      ],
      "id": "wirXjeT-Bd2H",
      "execution_count": 44,
      "outputs": [
        {
          "output_type": "execute_result",
          "data": {
            "text/plain": [
              "array([[ 1., nan,  1.,  1.,  1.],\n",
              "       [ 1.,  1.,  1.,  1.,  1.],\n",
              "       [ 1.,  1.,  1.,  1.,  1.],\n",
              "       [ 1.,  1.,  1.,  1.,  1.],\n",
              "       [ 1.,  1.,  1.,  1.,  1.]])"
            ]
          },
          "metadata": {
            "tags": []
          },
          "execution_count": 44
        }
      ]
    },
    {
      "cell_type": "markdown",
      "metadata": {
        "id": "qujryEWVA4pY"
      },
      "source": [
        "#### 18. Now, use this expression to find the index of your nan\n",
        "\n",
        "\n",
        "```\n",
        "np.argwhere(x!=x)    Hint: x is your array\n",
        "```\n",
        "\n",
        "\n",
        "\n"
      ],
      "id": "qujryEWVA4pY"
    },
    {
      "cell_type": "code",
      "metadata": {
        "id": "2yQCLh0eZmzP",
        "outputId": "f253566e-f8dc-4b1c-d937-68b3adc56da8",
        "colab": {
          "base_uri": "https://localhost:8080/"
        }
      },
      "source": [
        "Z = np.ones((5,5))\n",
        "Z[0,1]=np.nan\n",
        "print(Z)\n",
        "print(np.argwhere(Z==\"nan\"))"
      ],
      "id": "2yQCLh0eZmzP",
      "execution_count": 77,
      "outputs": [
        {
          "output_type": "stream",
          "text": [
            "[[ 1. nan  1.  1.  1.]\n",
            " [ 1.  1.  1.  1.  1.]\n",
            " [ 1.  1.  1.  1.  1.]\n",
            " [ 1.  1.  1.  1.  1.]\n",
            " [ 1.  1.  1.  1.  1.]]\n",
            "[]\n"
          ],
          "name": "stdout"
        },
        {
          "output_type": "stream",
          "text": [
            "/usr/local/lib/python3.7/dist-packages/ipykernel_launcher.py:4: FutureWarning: elementwise comparison failed; returning scalar instead, but in the future will perform elementwise comparison\n",
            "  after removing the cwd from sys.path.\n"
          ],
          "name": "stderr"
        }
      ]
    },
    {
      "cell_type": "markdown",
      "metadata": {
        "id": "FvqtyHKDDJbO"
      },
      "source": [
        "20. Generate the following array \n",
        "\n",
        "\n",
        "```\n",
        "array([[ 1,  2,  3,  4],\n",
        "       [ 5,  6,  7,  8],\n",
        "       [ 9, 10, 11, 12],\n",
        "       [13, 14, 15, 16]])\n",
        "```\n",
        "\n"
      ],
      "id": "FvqtyHKDDJbO"
    },
    {
      "cell_type": "code",
      "metadata": {
        "id": "86a-D0JHjfkH",
        "outputId": "72401855-a587-41c4-c191-007c6a7da3b9",
        "colab": {
          "base_uri": "https://localhost:8080/"
        }
      },
      "source": [
        "Array1=[ 1,  2,  3,  4]\n",
        "Array2=[5,  6,  7,  8]\n",
        "Array3=[9, 10, 11, 12]\n",
        "Array4=[13, 14, 15, 16]\n",
        "\n",
        "Array_1234=np.array([Array1,Array2,Array3,Array4])\n",
        "print(Array_1234)"
      ],
      "id": "86a-D0JHjfkH",
      "execution_count": 86,
      "outputs": [
        {
          "output_type": "stream",
          "text": [
            "[[ 1  2  3  4]\n",
            " [ 5  6  7  8]\n",
            " [ 9 10 11 12]\n",
            " [13 14 15 16]]\n"
          ],
          "name": "stdout"
        }
      ]
    },
    {
      "cell_type": "markdown",
      "metadata": {
        "id": "Nu-kxgXYEw4H"
      },
      "source": [
        "#### 19. Extract the following values `array([ 1,  6, 11, 16])`. ` Hint: use np.diagonal()`"
      ],
      "id": "Nu-kxgXYEw4H"
    },
    {
      "cell_type": "code",
      "metadata": {
        "id": "K75gLJt5AkD2",
        "outputId": "f710f539-d0b3-413a-cf69-88e6563f06f1",
        "colab": {
          "base_uri": "https://localhost:8080/"
        }
      },
      "source": [
        "np.diagonal?\n",
        "Array_Extract=np.diagonal(Array_1234, axis1=0, axis2=1)\n",
        "print(Array_Extract)"
      ],
      "id": "K75gLJt5AkD2",
      "execution_count": 87,
      "outputs": [
        {
          "output_type": "stream",
          "text": [
            "[ 1  6 11 16]\n"
          ],
          "name": "stdout"
        }
      ]
    },
    {
      "cell_type": "markdown",
      "metadata": {
        "id": "e3a7ba7f"
      },
      "source": [
        "#### 20. Try to use `np.diag` to Create a 5x5 matrix with diagonal values 11,11,11,11 (★★☆) Hint: use np.diag with k=0 and [11,11,11,11]. -- diag([11,11,11,11],k=-0)"
      ],
      "id": "e3a7ba7f"
    },
    {
      "cell_type": "code",
      "metadata": {
        "id": "WAw2uQhSa9ay",
        "outputId": "04a0e459-b144-4959-a2ea-30f29088e933",
        "colab": {
          "base_uri": "https://localhost:8080/"
        }
      },
      "source": [
        "np.diag?\n",
        "DST_0=np.array([11,11,11,11])\n",
        "DST_1=np.diag(DST_0,k=1)\n",
        "print(DST_1)"
      ],
      "id": "WAw2uQhSa9ay",
      "execution_count": 52,
      "outputs": [
        {
          "output_type": "stream",
          "text": [
            "[[ 0 11  0  0  0]\n",
            " [ 0  0 11  0  0]\n",
            " [ 0  0  0 11  0]\n",
            " [ 0  0  0  0 11]\n",
            " [ 0  0  0  0  0]]\n"
          ],
          "name": "stdout"
        }
      ]
    },
    {
      "cell_type": "markdown",
      "metadata": {
        "id": "puqXeNWRF4yG"
      },
      "source": [
        "#### 21.  Create a 5x5 matrix with values 1,2,3,4 just below the diagonal (★☆☆) `Hint: use k=-1 when calling np.diag`"
      ],
      "id": "puqXeNWRF4yG"
    },
    {
      "cell_type": "code",
      "metadata": {
        "colab": {
          "base_uri": "https://localhost:8080/"
        },
        "id": "01d8e257",
        "outputId": "8de7ac5a-43b4-43f0-b76d-dd4c011ee66d"
      },
      "source": [
        "x = np.diag([1, 2, 3, 4], k=1)\n",
        "print(x)"
      ],
      "id": "01d8e257",
      "execution_count": 53,
      "outputs": [
        {
          "output_type": "stream",
          "text": [
            "[[0 1 0 0 0]\n",
            " [0 0 2 0 0]\n",
            " [0 0 0 3 0]\n",
            " [0 0 0 0 4]\n",
            " [0 0 0 0 0]]\n"
          ],
          "name": "stdout"
        }
      ]
    },
    {
      "cell_type": "markdown",
      "metadata": {
        "id": "6d17ab5d"
      },
      "source": [
        "####22. Create a 8x8 matrix and fill it with a given pattern (★☆☆) Hint: use np.zeros and do the replace \n",
        "\n",
        "\n",
        "\n",
        "```\n",
        "[['' 'O' '' 'O' '' 'O' '' 'O']\n",
        " ['M' '' 'M' '' 'M' '' 'M' '']\n",
        " ['' 'O' '' 'O' '' 'O' '' 'O']\n",
        " ['M' '' 'M' '' 'M' '' 'M' '']\n",
        " ['' 'O' '' 'O' '' 'O' '' 'O']\n",
        " ['M' '' 'M' '' 'M' '' 'M' '']\n",
        " ['' 'O' '' 'O' '' 'O' '' 'O']\n",
        " ['M' '' 'M' '' 'M' '' 'M' '']]\n",
        "```\n",
        "\n"
      ],
      "id": "6d17ab5d"
    },
    {
      "cell_type": "code",
      "metadata": {
        "id": "XkV4dLOschPD",
        "outputId": "cf822538-4434-4b81-dc3e-caa7e8f229eb",
        "colab": {
          "base_uri": "https://localhost:8080/"
        }
      },
      "source": [
        "MO_Array= np.zeros((8,8),dtype=str)\n",
        "MO_Array[1::2,::2] = \"M\"\n",
        "MO_Array[::2,1::2] = \"O\"\n",
        "print(MO_Array)"
      ],
      "id": "XkV4dLOschPD",
      "execution_count": 56,
      "outputs": [
        {
          "output_type": "stream",
          "text": [
            "[['' 'O' '' 'O' '' 'O' '' 'O']\n",
            " ['M' '' 'M' '' 'M' '' 'M' '']\n",
            " ['' 'O' '' 'O' '' 'O' '' 'O']\n",
            " ['M' '' 'M' '' 'M' '' 'M' '']\n",
            " ['' 'O' '' 'O' '' 'O' '' 'O']\n",
            " ['M' '' 'M' '' 'M' '' 'M' '']\n",
            " ['' 'O' '' 'O' '' 'O' '' 'O']\n",
            " ['M' '' 'M' '' 'M' '' 'M' '']]\n"
          ],
          "name": "stdout"
        }
      ]
    },
    {
      "cell_type": "code",
      "metadata": {
        "colab": {
          "base_uri": "https://localhost:8080/"
        },
        "id": "841373cd",
        "outputId": "486ec24b-6e0e-4c08-d843-abddcb180478"
      },
      "source": [
        ""
      ],
      "id": "841373cd",
      "execution_count": null,
      "outputs": [
        {
          "output_type": "stream",
          "text": [
            "[['' 'O' '' 'O' '' 'O' '' 'O']\n",
            " ['M' '' 'M' '' 'M' '' 'M' '']\n",
            " ['' 'O' '' 'O' '' 'O' '' 'O']\n",
            " ['M' '' 'M' '' 'M' '' 'M' '']\n",
            " ['' 'O' '' 'O' '' 'O' '' 'O']\n",
            " ['M' '' 'M' '' 'M' '' 'M' '']\n",
            " ['' 'O' '' 'O' '' 'O' '' 'O']\n",
            " ['M' '' 'M' '' 'M' '' 'M' '']]\n"
          ],
          "name": "stdout"
        }
      ]
    },
    {
      "cell_type": "markdown",
      "metadata": {
        "id": "TWPMKIRMG5B-"
      },
      "source": [
        "#### 23. Use the `np.tile` to generate the same pattern \n",
        "\n",
        "```\n",
        "[['' 'O' '' 'O' '' 'O' '' 'O']\n",
        " ['M' '' 'M' '' 'M' '' 'M' '']\n",
        " ['' 'O' '' 'O' '' 'O' '' 'O']\n",
        " ['M' '' 'M' '' 'M' '' 'M' '']\n",
        " ['' 'O' '' 'O' '' 'O' '' 'O']\n",
        " ['M' '' 'M' '' 'M' '' 'M' '']\n",
        " ['' 'O' '' 'O' '' 'O' '' 'O']\n",
        " ['M' '' 'M' '' 'M' '' 'M' '']]\n",
        "```\n",
        "\n"
      ],
      "id": "TWPMKIRMG5B-"
    },
    {
      "cell_type": "code",
      "metadata": {
        "id": "0a4f919f"
      },
      "source": [
        "np.tile?\n",
        "MO_Array_1= np.tile(\"O\")\n"
      ],
      "id": "0a4f919f",
      "execution_count": 57,
      "outputs": []
    },
    {
      "cell_type": "markdown",
      "metadata": {
        "id": "391791e0"
      },
      "source": [
        "#### 24. Generate then Normalize a 5x5 random matrix (★☆☆)  `hint: Normalization_array = (x_arr -mean_value(x))/std_value(x)`"
      ],
      "id": "391791e0"
    },
    {
      "cell_type": "code",
      "metadata": {
        "id": "f6533d39",
        "outputId": "c47d015a-3db2-4736-e56e-03b494e89a1a",
        "colab": {
          "base_uri": "https://localhost:8080/"
        }
      },
      "source": [
        "Normalization_array = np.random.random((5,5))\n",
        "Normalization_array = (Normalization_array - np.mean (Normalization_array)) / (np.std (Normalization_array))\n",
        "print(Normalization_array)"
      ],
      "id": "f6533d39",
      "execution_count": 58,
      "outputs": [
        {
          "output_type": "stream",
          "text": [
            "[[ 1.48857927  0.52758986  1.07216372 -2.04958614 -0.0998971 ]\n",
            " [ 0.1423541  -0.15953125 -0.79973061 -1.70056647  0.77309916]\n",
            " [ 1.24385836  1.44140193 -0.82294027 -0.135355   -1.58638544]\n",
            " [ 1.40075226 -1.29400772 -0.45671292  0.79909076  0.5778717 ]\n",
            " [ 0.13910632 -0.18147512 -0.9209921   0.64318127 -0.04186857]]\n"
          ],
          "name": "stdout"
        }
      ]
    },
    {
      "cell_type": "markdown",
      "metadata": {
        "id": "51898680"
      },
      "source": [
        "#### 25. generate any 1D array, negate all elements which are between 3 and 8, in place. (★☆☆)\n",
        "\n",
        "where \n",
        "\n",
        "```\n",
        "array([ 0,  1,  2,  3,  4,  5,  6,  7,  8,  9, 10])\n",
        "```\n",
        "will return\n",
        "\n",
        "```\n",
        "[ 0  1  2  3 -4 -5 -6 -7  8  9 10]\n",
        "```\n",
        "\n",
        "\n"
      ],
      "id": "51898680"
    },
    {
      "cell_type": "code",
      "metadata": {
        "colab": {
          "base_uri": "https://localhost:8080/"
        },
        "id": "7QVRpdyaegc_",
        "outputId": "fa72db8b-53a0-4f4e-f123-b7efa298081b"
      },
      "source": [
        "One_Dimentioal_Array = np.arange(11)\n",
        "One_Dimentioal_Array[(3 < One_Dimentioal_Array) & (One_Dimentioal_Array < 8)] *= -1\n",
        "print(One_Dimentioal_Array)"
      ],
      "id": "7QVRpdyaegc_",
      "execution_count": 59,
      "outputs": [
        {
          "output_type": "stream",
          "text": [
            "[ 0  1  2  3 -4 -5 -6 -7  8  9 10]\n"
          ],
          "name": "stdout"
        }
      ]
    },
    {
      "cell_type": "markdown",
      "metadata": {
        "id": "ebd10810"
      },
      "source": [
        "#### 26. Consider an integer vector Z, comment any iligal expressions (★☆☆)\n",
        "```python\n",
        "Z**Z\n",
        "2 << Z >> 2\n",
        "Z <- Z\n",
        "1j*Z\n",
        "Z/1/1\n",
        "Z<Z>Z\n",
        "```"
      ],
      "id": "ebd10810"
    },
    {
      "cell_type": "code",
      "metadata": {
        "id": "GPHf_u70qIqJ",
        "outputId": "e18632f7-5dff-42a5-eede-38b2e6cc4655",
        "colab": {
          "base_uri": "https://localhost:8080/"
        }
      },
      "source": [
        "Z=10\n",
        "print(Z**Z)\n",
        "print(2 << Z >> 2)\n",
        "print(Z <- Z)\n",
        "print(1j*Z)\n",
        "print(Z/1/1)\n",
        "print(Z<Z>Z)\n",
        "\n",
        "# Dr.Mohammad. All of these  expressions are correct"
      ],
      "id": "GPHf_u70qIqJ",
      "execution_count": 61,
      "outputs": [
        {
          "output_type": "stream",
          "text": [
            "10000000000\n",
            "512\n",
            "False\n",
            "10j\n",
            "10.0\n",
            "False\n"
          ],
          "name": "stdout"
        }
      ]
    },
    {
      "cell_type": "markdown",
      "metadata": {
        "id": "f1ae2c2d"
      },
      "source": [
        "#### 27. Generate two randon 1D array, How to find common values between two arrays? (★☆☆) `Hint: use intersect1d(Arr1,Arr2)`"
      ],
      "id": "f1ae2c2d"
    },
    {
      "cell_type": "code",
      "metadata": {
        "id": "6801c73d",
        "outputId": "90e2d729-d75e-43e7-fe84-78a2365ff139",
        "colab": {
          "base_uri": "https://localhost:8080/"
        }
      },
      "source": [
        "First_ARR = np.array([0, 100, 15, 200, 35, 300])\n",
        "Second_ARR =np.array([100, 200, 300])\n",
        "print(np.intersect1d(First_ARR, Second_ARR))\n"
      ],
      "id": "6801c73d",
      "execution_count": 65,
      "outputs": [
        {
          "output_type": "stream",
          "text": [
            "[100 200 300]\n"
          ],
          "name": "stdout"
        }
      ]
    },
    {
      "cell_type": "markdown",
      "metadata": {
        "id": "34a7bdee"
      },
      "source": [
        "#### 28. How to ignore all numpy warnings (not recommended)? (★☆☆)"
      ],
      "id": "34a7bdee"
    },
    {
      "cell_type": "code",
      "metadata": {
        "id": "befc60d1"
      },
      "source": [
        "DST= np.seterr(**defaults)"
      ],
      "id": "befc60d1",
      "execution_count": null,
      "outputs": []
    },
    {
      "cell_type": "markdown",
      "metadata": {
        "id": "37bc0973"
      },
      "source": [
        "####29. Is the following expressions true? (★☆☆)\n",
        "```python\n",
        "np.sqrt(-1) == np.emath.sqrt(-1)\n",
        "```"
      ],
      "id": "37bc0973"
    },
    {
      "cell_type": "code",
      "metadata": {
        "id": "mayy4Ghph2XF",
        "outputId": "75168b55-88d8-4bf8-e822-da0bcc178880",
        "colab": {
          "base_uri": "https://localhost:8080/"
        }
      },
      "source": [
        "np.sqrt(-1) == np.emath.sqrt(-1)\n",
        "\n",
        "#I think that this function is False \n"
      ],
      "id": "mayy4Ghph2XF",
      "execution_count": 66,
      "outputs": [
        {
          "output_type": "stream",
          "text": [
            "/usr/local/lib/python3.7/dist-packages/ipykernel_launcher.py:1: RuntimeWarning: invalid value encountered in sqrt\n",
            "  \"\"\"Entry point for launching an IPython kernel.\n"
          ],
          "name": "stderr"
        },
        {
          "output_type": "execute_result",
          "data": {
            "text/plain": [
              "False"
            ]
          },
          "metadata": {
            "tags": []
          },
          "execution_count": 66
        }
      ]
    },
    {
      "cell_type": "code",
      "metadata": {
        "id": "GozSG19Yh6vy"
      },
      "source": [
        ""
      ],
      "id": "GozSG19Yh6vy",
      "execution_count": null,
      "outputs": []
    }
  ]
}