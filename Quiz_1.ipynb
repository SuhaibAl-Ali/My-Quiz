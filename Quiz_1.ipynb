{
  "nbformat": 4,
  "nbformat_minor": 0,
  "metadata": {
    "colab": {
      "name": "Quiz-1.ipynb",
      "provenance": [],
      "collapsed_sections": []
    },
    "kernelspec": {
      "name": "python3",
      "display_name": "Python 3"
    },
    "language_info": {
      "name": "python"
    }
  },
  "cells": [
    {
      "cell_type": "markdown",
      "metadata": {
        "id": "PVK6TOZi-y0I"
      },
      "source": [
        "Please follow the questions sequence on your quiz interface and fill in the corresponding answer."
      ]
    },
    {
      "cell_type": "markdown",
      "metadata": {
        "id": "hrPj_EBo-HAs"
      },
      "source": [
        "##Quiz 1"
      ]
    },
    {
      "cell_type": "code",
      "metadata": {
        "id": "Hb4916l0-Fp0",
        "outputId": "91c6e7f2-0111-45d4-fd5d-f38ab1203d6f",
        "colab": {
          "base_uri": "https://localhost:8080/"
        }
      },
      "source": [
        "#Q1 code goes here\n",
        "#......\n",
        "a,b = 1,0\n",
        "a=a^b\n",
        "b=a^b\n",
        "a=a^b\n",
        "print(a)"
      ],
      "execution_count": 1,
      "outputs": [
        {
          "output_type": "stream",
          "text": [
            "0\n"
          ],
          "name": "stdout"
        }
      ]
    },
    {
      "cell_type": "code",
      "metadata": {
        "id": "p4M6g5fV-UjY",
        "outputId": "3d13822b-9416-4439-8c62-4ff959033695",
        "colab": {
          "base_uri": "https://localhost:8080/"
        }
      },
      "source": [
        "#Q2 code goes here\n",
        "#......\n",
        "x=2**2**3**1\n",
        "print(x)"
      ],
      "execution_count": 2,
      "outputs": [
        {
          "output_type": "stream",
          "text": [
            "256\n"
          ],
          "name": "stdout"
        }
      ]
    },
    {
      "cell_type": "code",
      "metadata": {
        "id": "Kmx45kx--akf",
        "outputId": "0ef91451-b126-467b-e47e-8b74a3969c75",
        "colab": {
          "base_uri": "https://localhost:8080/"
        }
      },
      "source": [
        "#Q3 code goes here\n",
        "#......\n",
        "s1 = {'Alex', 2, 3}\n",
        "s2 = {3, 4, 5, 'Alix'}\n",
        "print(s1|s2)\n",
        "print(s1.union(s2))\n",
        "s1.union(set([3, 4, 5, 'Alix']))\n"
      ],
      "execution_count": 8,
      "outputs": [
        {
          "output_type": "stream",
          "text": [
            "{'Alix', 2, 3, 4, 5, 'Alex'}\n",
            "{'Alix', 2, 3, 4, 5, 'Alex'}\n"
          ],
          "name": "stdout"
        },
        {
          "output_type": "execute_result",
          "data": {
            "text/plain": [
              "{2, 3, 4, 5, 'Alex', 'Alix'}"
            ]
          },
          "metadata": {
            "tags": []
          },
          "execution_count": 8
        }
      ]
    },
    {
      "cell_type": "code",
      "metadata": {
        "id": "7Y7EBhQ1-fyS"
      },
      "source": [
        "#Q4 code goes here\n",
        "#......"
      ],
      "execution_count": null,
      "outputs": []
    },
    {
      "cell_type": "code",
      "metadata": {
        "id": "MA7g7GDj-g9v",
        "outputId": "9a750efc-0c7c-4827-ad1d-81ef86354fb8",
        "colab": {
          "base_uri": "https://localhost:8080/",
          "height": 129
        }
      },
      "source": [
        "#Q5 code goes here\n",
        "#......\n",
        "# To solve this problem, we have to put a colon at the end of the first (if statement)\n",
        "scores={'Mohammad':97,'Ahmad':98}\n",
        "# Correct Answer= if scores ['Mohammad']>97:\n",
        "if scores ['Mohammad']>97\n",
        "   print('Scholar')\n",
        "elif scores ['Ahmad']>97:\n",
        "     print('Topper')\n",
        "elif scores ['Alex']>97:\n",
        "   print('Teacher')\n",
        "else: print('Nobody topped')\n",
        "\n",
        "\n",
        "\n",
        "\n",
        "\n",
        "\n"
      ],
      "execution_count": 11,
      "outputs": [
        {
          "output_type": "error",
          "ename": "SyntaxError",
          "evalue": "ignored",
          "traceback": [
            "\u001b[0;36m  File \u001b[0;32m\"<ipython-input-11-ac2bf48672aa>\"\u001b[0;36m, line \u001b[0;32m4\u001b[0m\n\u001b[0;31m    if scores ['Mohammad']>97\u001b[0m\n\u001b[0m                             ^\u001b[0m\n\u001b[0;31mSyntaxError\u001b[0m\u001b[0;31m:\u001b[0m invalid syntax\n"
          ]
        }
      ]
    },
    {
      "cell_type": "code",
      "metadata": {
        "id": "I12X4np--iIn",
        "outputId": "e182c1ca-8c6f-45de-ec98-b7986aa3362f",
        "colab": {
          "base_uri": "https://localhost:8080/"
        }
      },
      "source": [
        "#Q6 code goes here\n",
        "#......\n",
        "L=['One','Two','Three',4]\n",
        "L +='Five'\n",
        "print(L)\n"
      ],
      "execution_count": 13,
      "outputs": [
        {
          "output_type": "stream",
          "text": [
            "['One', 'Two', 'Three', 4, 'F', 'i', 'v', 'e']\n"
          ],
          "name": "stdout"
        }
      ]
    },
    {
      "cell_type": "code",
      "metadata": {
        "id": "0OgudXbC-jRf",
        "outputId": "39f3b43e-e91a-460a-ec4e-9621c0e63dfc",
        "colab": {
          "base_uri": "https://localhost:8080/",
          "height": 197
        }
      },
      "source": [
        "#Q7 code goes here\n",
        "#......\n",
        "from random import randint\n",
        "for i in range(5,15,5):\n",
        "  print(random(1, 5))\n"
      ],
      "execution_count": 15,
      "outputs": [
        {
          "output_type": "error",
          "ename": "NameError",
          "evalue": "ignored",
          "traceback": [
            "\u001b[0;31m---------------------------------------------------------------------------\u001b[0m",
            "\u001b[0;31mNameError\u001b[0m                                 Traceback (most recent call last)",
            "\u001b[0;32m<ipython-input-15-50ace0134360>\u001b[0m in \u001b[0;36m<module>\u001b[0;34m()\u001b[0m\n\u001b[1;32m      3\u001b[0m \u001b[0;32mfrom\u001b[0m \u001b[0mrandom\u001b[0m \u001b[0;32mimport\u001b[0m \u001b[0mrandint\u001b[0m\u001b[0;34m\u001b[0m\u001b[0;34m\u001b[0m\u001b[0m\n\u001b[1;32m      4\u001b[0m \u001b[0;32mfor\u001b[0m \u001b[0mi\u001b[0m \u001b[0;32min\u001b[0m \u001b[0mrange\u001b[0m\u001b[0;34m(\u001b[0m\u001b[0;36m5\u001b[0m\u001b[0;34m,\u001b[0m\u001b[0;36m15\u001b[0m\u001b[0;34m,\u001b[0m\u001b[0;36m5\u001b[0m\u001b[0;34m)\u001b[0m\u001b[0;34m:\u001b[0m\u001b[0;34m\u001b[0m\u001b[0;34m\u001b[0m\u001b[0m\n\u001b[0;32m----> 5\u001b[0;31m   \u001b[0mprint\u001b[0m\u001b[0;34m(\u001b[0m\u001b[0mrandom\u001b[0m\u001b[0;34m(\u001b[0m\u001b[0;36m1\u001b[0m\u001b[0;34m,\u001b[0m \u001b[0;36m5\u001b[0m\u001b[0;34m)\u001b[0m\u001b[0;34m)\u001b[0m\u001b[0;34m\u001b[0m\u001b[0;34m\u001b[0m\u001b[0m\n\u001b[0m",
            "\u001b[0;31mNameError\u001b[0m: name 'random' is not defined"
          ]
        }
      ]
    },
    {
      "cell_type": "code",
      "metadata": {
        "id": "GAXrIcIi-kqq",
        "outputId": "9cc9223e-8a84-4609-dea0-017830828325",
        "colab": {
          "base_uri": "https://localhost:8080/",
          "height": 129
        }
      },
      "source": [
        "#Q8 code goes here\n",
        "#......\n",
        "def func(a,b,c,d=1):\n",
        "  return d**(a*25)\n",
        " func(4,5,6,2)\n"
      ],
      "execution_count": 21,
      "outputs": [
        {
          "output_type": "error",
          "ename": "IndentationError",
          "evalue": "ignored",
          "traceback": [
            "\u001b[0;36m  File \u001b[0;32m\"<ipython-input-21-f968625ea6f2>\"\u001b[0;36m, line \u001b[0;32m5\u001b[0m\n\u001b[0;31m    func(4,5,6,2)\u001b[0m\n\u001b[0m                 ^\u001b[0m\n\u001b[0;31mIndentationError\u001b[0m\u001b[0;31m:\u001b[0m unindent does not match any outer indentation level\n"
          ]
        }
      ]
    },
    {
      "cell_type": "code",
      "metadata": {
        "id": "s9brnp6X-oLW",
        "outputId": "8e08ccc7-d467-4779-b0bf-b8064d396c2f",
        "colab": {
          "base_uri": "https://localhost:8080/"
        }
      },
      "source": [
        "#Q9 code goes here\n",
        "#......\n",
        "L=list()\n",
        "L.append([1,2,[3,4]])\n",
        "L.extend([5,6,7])\n",
        "L.insert(0,['hello'])\n",
        "print(L)"
      ],
      "execution_count": 25,
      "outputs": [
        {
          "output_type": "stream",
          "text": [
            "[['hello'], [1, 2, [3, 4]], 5, 6, 7]\n"
          ],
          "name": "stdout"
        }
      ]
    },
    {
      "cell_type": "code",
      "metadata": {
        "id": "dRg-t5kh-qfd",
        "outputId": "08cac631-e27e-482b-ffb4-06218ad16236",
        "colab": {
          "base_uri": "https://localhost:8080/"
        }
      },
      "source": [
        "#Q10 code goes here\n",
        "#......\n",
        "i=12\n",
        "while i>0:\n",
        "  i-=3\n",
        "  print('O')\n",
        "  if i<=2:\n",
        "    break\n",
        "  else:\n",
        "    print('O')"
      ],
      "execution_count": 26,
      "outputs": [
        {
          "output_type": "stream",
          "text": [
            "O\n",
            "O\n",
            "O\n",
            "O\n",
            "O\n",
            "O\n",
            "O\n"
          ],
          "name": "stdout"
        }
      ]
    },
    {
      "cell_type": "code",
      "metadata": {
        "id": "Oeyo6Kl7-tCz",
        "outputId": "93aad998-95a1-44fe-f3cb-47e77e9439cc",
        "colab": {
          "base_uri": "https://localhost:8080/"
        }
      },
      "source": [
        "#Q11 code goes here\n",
        "#......\n",
        "\n",
        "# I am testing my code\n",
        "a={1, 2, '''\\#comment 3, 4'''}\n",
        "print(a)\n"
      ],
      "execution_count": 38,
      "outputs": [
        {
          "output_type": "stream",
          "text": [
            "{1, 2, '\\\\#comment 3, 4'}\n"
          ],
          "name": "stdout"
        }
      ]
    },
    {
      "cell_type": "code",
      "metadata": {
        "id": "GVUAcq57-xSu",
        "outputId": "4e35bbf9-9353-4ead-a2df-f8581cd916d4",
        "colab": {
          "base_uri": "https://localhost:8080/",
          "height": 129
        }
      },
      "source": [
        "#Q12 code goes here\n",
        "#......\n",
        "\n",
        "a = [1, 2, 7, 8] into [1, 2, 3, 4, 5, 6, 7, 8]\n",
        "print(a)"
      ],
      "execution_count": 39,
      "outputs": [
        {
          "output_type": "error",
          "ename": "SyntaxError",
          "evalue": "ignored",
          "traceback": [
            "\u001b[0;36m  File \u001b[0;32m\"<ipython-input-39-117a1eefb594>\"\u001b[0;36m, line \u001b[0;32m4\u001b[0m\n\u001b[0;31m    a = [1, 2, 7, 8] into [1, 2, 3, 4, 5, 6, 7, 8]\u001b[0m\n\u001b[0m                        ^\u001b[0m\n\u001b[0;31mSyntaxError\u001b[0m\u001b[0;31m:\u001b[0m invalid syntax\n"
          ]
        }
      ]
    },
    {
      "cell_type": "code",
      "metadata": {
        "id": "Woi06WO1Sijq",
        "outputId": "582bffbb-317e-4f44-c768-642ec05c8bd7",
        "colab": {
          "base_uri": "https://localhost:8080/"
        }
      },
      "source": [
        "x,y,z=(12,90,'A',14,5,'B',7,8,9,101)[2::3]\n",
        "print(y)"
      ],
      "execution_count": 40,
      "outputs": [
        {
          "output_type": "stream",
          "text": [
            "B\n"
          ],
          "name": "stdout"
        }
      ]
    },
    {
      "cell_type": "code",
      "metadata": {
        "id": "27m-brOHTSrP",
        "outputId": "8f73c909-2be6-4ec7-8fae-17ca731449b2",
        "colab": {
          "base_uri": "https://localhost:8080/"
        }
      },
      "source": [
        "print({1, 2, 3} & {4, 5, 6})\n"
      ],
      "execution_count": 41,
      "outputs": [
        {
          "output_type": "stream",
          "text": [
            "set()\n"
          ],
          "name": "stdout"
        }
      ]
    },
    {
      "cell_type": "code",
      "metadata": {
        "id": "4NGgA-N1Tf0F",
        "outputId": "48834392-3e83-435e-9cf9-0fdaf4510935",
        "colab": {
          "base_uri": "https://localhost:8080/"
        }
      },
      "source": [
        "shopping={'Meat','milk','cheese','butter','Water','buttermilk'}\n",
        "\n",
        "shopping.pop()\n",
        "print(shopping)\n"
      ],
      "execution_count": 53,
      "outputs": [
        {
          "output_type": "stream",
          "text": [
            "{'Water', 'milk', 'buttermilk', 'Meat', 'cheese'}\n"
          ],
          "name": "stdout"
        }
      ]
    },
    {
      "cell_type": "code",
      "metadata": {
        "id": "0FFhp9dWUb3a"
      },
      "source": [
        ""
      ],
      "execution_count": null,
      "outputs": []
    }
  ]
}